{
 "cells": [
  {
   "cell_type": "markdown",
   "metadata": {},
   "source": [
    "1.Find Unique"
   ]
  },
  {
   "cell_type": "markdown",
   "metadata": {},
   "source": [
    "t=1\n",
    "n=7\n",
    "arr=2361632"
   ]
  },
  {
   "cell_type": "code",
   "execution_count": 18,
   "metadata": {},
   "outputs": [
    {
     "name": "stdout",
     "output_type": "stream",
     "text": [
      "1\n"
     ]
    }
   ],
   "source": [
    "t = int(input())\n",
    "for _ in range(t):\n",
    "    N = int(input())\n",
    "    arr = list(map(int, input().split()))\n",
    "    unique_element = 0\n",
    "    for num in arr:\n",
    "        unique_element ^= num\n",
    "    print(unique_element)\n",
    "\n"
   ]
  },
  {
   "cell_type": "code",
   "execution_count": 2,
   "metadata": {},
   "outputs": [
    {
     "name": "stdout",
     "output_type": "stream",
     "text": [
      "[2, 3, 6, 1]\n"
     ]
    }
   ],
   "source": [
    "t=int(input())\n",
    "for _ in range(t):\n",
    "    N=int(input())\n",
    "    arr=list(map(int,input().split()))\n",
    "    unique_element=[]\n",
    "    for a in arr:\n",
    "        if a  not in unique_element:\n",
    "            unique_element.append(a)\n",
    "    print(unique_element)"
   ]
  },
  {
   "cell_type": "markdown",
   "metadata": {},
   "source": [
    "t=2\n",
    "n=5\n",
    "arr = 2 4 7 2 7\n",
    "n=9\n",
    "arr = 1 3 1 3 6 6 7 10 7"
   ]
  },
  {
   "cell_type": "code",
   "execution_count": 19,
   "metadata": {},
   "outputs": [
    {
     "name": "stdout",
     "output_type": "stream",
     "text": [
      "4\n",
      "10\n"
     ]
    }
   ],
   "source": [
    "t = int(input())\n",
    "for _ in range(t):\n",
    "    N = int(input())\n",
    "    arr = list(map(int, input().split()))\n",
    "    unique_element = 0\n",
    "    for num in arr:\n",
    "        unique_element ^= num\n",
    "    print(unique_element)"
   ]
  },
  {
   "cell_type": "markdown",
   "metadata": {},
   "source": [
    "2.Find Duplicate"
   ]
  },
  {
   "cell_type": "markdown",
   "metadata": {},
   "source": [
    "t=1\n",
    "n=9\n",
    "arr=0 7 2 5 4 7 1 3 6"
   ]
  },
  {
   "cell_type": "code",
   "execution_count": 20,
   "metadata": {},
   "outputs": [
    {
     "name": "stdout",
     "output_type": "stream",
     "text": [
      "7\n"
     ]
    }
   ],
   "source": [
    "t=int(input())\n",
    "for _ in range(t):\n",
    "    N=int(input())\n",
    "    arr=list(map(int,input().split()))\n",
    "    duplicate_element=0\n",
    "    for num in arr:\n",
    "        duplicate_element ^= num\n",
    "    for i in range(N - 1):\n",
    "        duplicate_element ^= i\n",
    "    print(duplicate_element)"
   ]
  },
  {
   "cell_type": "markdown",
   "metadata": {},
   "source": [
    "t=2\n",
    "n=5\n",
    "arr=0 2 1 3 1\n",
    "n=7\n",
    "arr=0 3 1 5 4 3 2"
   ]
  },
  {
   "cell_type": "code",
   "execution_count": 21,
   "metadata": {},
   "outputs": [
    {
     "name": "stdout",
     "output_type": "stream",
     "text": [
      "1\n",
      "3\n"
     ]
    }
   ],
   "source": [
    "t=int(input())\n",
    "for _ in range(t):\n",
    "    N=int(input())\n",
    "    arr=list(map(int,input().split()))\n",
    "    duplicate_element=0\n",
    "    for num in arr:\n",
    "        duplicate_element ^= num\n",
    "    for i in range(N - 1):\n",
    "        duplicate_element ^= i\n",
    "    print(duplicate_element)"
   ]
  },
  {
   "cell_type": "markdown",
   "metadata": {},
   "source": [
    "3.Intersection of arrays"
   ]
  },
  {
   "cell_type": "markdown",
   "metadata": {},
   "source": [
    "t=2\n",
    "n=6\n",
    "arr1=2 6 8 5 4 3\n",
    "m=4\n",
    "arr2=2 3 4 7 \n",
    "n=2\n",
    "arr1=10 10\n",
    "m=1\n",
    "arr2=10\n"
   ]
  },
  {
   "cell_type": "code",
   "execution_count": 22,
   "metadata": {},
   "outputs": [
    {
     "name": "stdout",
     "output_type": "stream",
     "text": [
      "2 3 4\n",
      "10\n"
     ]
    }
   ],
   "source": [
    "t = int(input())\n",
    "for _ in range(t):\n",
    "    N = int(input())\n",
    "    arr1 = set(map(int, input().split()))\n",
    "    M = int(input())\n",
    "    arr2 = set(map(int, input().split()))\n",
    "    intersection = arr1.intersection(arr2)\n",
    "    print(*intersection)"
   ]
  },
  {
   "cell_type": "markdown",
   "metadata": {},
   "source": [
    "t=1\n",
    "n=4\n",
    "arr1=2 6 1 2\n",
    "m=5\n",
    "arr2=1 2 3 4 2"
   ]
  },
  {
   "cell_type": "code",
   "execution_count": 23,
   "metadata": {},
   "outputs": [
    {
     "name": "stdout",
     "output_type": "stream",
     "text": [
      "1 2\n"
     ]
    }
   ],
   "source": [
    "t = int(input())\n",
    "for _ in range(t):\n",
    "    N = int(input())\n",
    "    arr1 = set(map(int, input().split()))\n",
    "    M = int(input())\n",
    "    arr2 = set(map(int, input().split()))\n",
    "    intersection = arr1.intersection(arr2)\n",
    "    print(*intersection)"
   ]
  },
  {
   "cell_type": "markdown",
   "metadata": {},
   "source": [
    "4.Pair Sum"
   ]
  },
  {
   "cell_type": "markdown",
   "metadata": {},
   "source": [
    "t=1\n",
    "N=9\n",
    "arr= 1 3 6 2 5 4 3 2 4\n",
    "x=7\n"
   ]
  },
  {
   "cell_type": "code",
   "execution_count": 7,
   "metadata": {},
   "outputs": [
    {
     "name": "stdout",
     "output_type": "stream",
     "text": [
      "7\n"
     ]
    }
   ],
   "source": [
    "t=int(input())\n",
    "for _ in range(t):\n",
    "    N=int(input())\n",
    "    arr=list(map(int,input().split()))\n",
    "    x=int(input())\n",
    "    count=0\n",
    "    n = len(arr)\n",
    "    \n",
    "    for i in range(n - 1):\n",
    "        for j in range(i+1 , n ):\n",
    "                if arr[i] + arr[j]  == x:\n",
    "                    count += 1\n",
    "    \n",
    "    print(count)"
   ]
  },
  {
   "cell_type": "markdown",
   "metadata": {},
   "source": [
    "t=2\n",
    "N=9\n",
    "arr=1 3 6 2 5 4 3 2 4\n",
    "x=12\n",
    "N=6\n",
    "arr=2 8 10 5 -2 5\n",
    "x=10\n"
   ]
  },
  {
   "cell_type": "code",
   "execution_count": 8,
   "metadata": {},
   "outputs": [
    {
     "name": "stdout",
     "output_type": "stream",
     "text": [
      "0\n",
      "2\n"
     ]
    }
   ],
   "source": [
    "t=int(input())\n",
    "for _ in range(t):\n",
    "    N=int(input())\n",
    "    arr=list(map(int,input().split()))\n",
    "    x=int(input())\n",
    "    count=0\n",
    "    n = len(arr)\n",
    "    \n",
    "    for i in range(n - 1):\n",
    "        for j in range(i+1 , n ):\n",
    "                if arr[i] + arr[j]  == x:\n",
    "                    count += 1\n",
    "    \n",
    "    print(count)"
   ]
  },
  {
   "cell_type": "markdown",
   "metadata": {},
   "source": [
    "5.triplet sum"
   ]
  },
  {
   "cell_type": "markdown",
   "metadata": {},
   "source": [
    "t=1\n",
    "N=7\n",
    "arr=1 2 3 4 5 6 7 \n",
    "x=12\n"
   ]
  },
  {
   "cell_type": "code",
   "execution_count": 27,
   "metadata": {},
   "outputs": [
    {
     "name": "stdout",
     "output_type": "stream",
     "text": [
      "5\n"
     ]
    }
   ],
   "source": [
    "t=int(input())\n",
    "for _ in range(t):\n",
    "    N=int(input())\n",
    "    arr=list(map(int,input().split()))\n",
    "    x=int(input())\n",
    "    count=0\n",
    "    n = len(arr)\n",
    "    \n",
    "    for i in range(n - 2):\n",
    "        for j in range(i + 1, n - 1):\n",
    "            for k in range(j + 1, n):\n",
    "                if arr[i] + arr[j] + arr[k] == x:\n",
    "                    count += 1\n",
    "    \n",
    "    print(count)"
   ]
  },
  {
   "cell_type": "markdown",
   "metadata": {},
   "source": [
    "t=2\n",
    "N=7\n",
    "arr=1 2 3 4 5 6 7 \n",
    "x=19\n",
    "N=9\n",
    "arr=2 -5 8 -6 0 5 10 11 -3\n",
    "x=10\n"
   ]
  },
  {
   "cell_type": "code",
   "execution_count": 28,
   "metadata": {},
   "outputs": [
    {
     "name": "stdout",
     "output_type": "stream",
     "text": [
      "0\n",
      "5\n"
     ]
    }
   ],
   "source": [
    "t=int(input())\n",
    "for _ in range(t):\n",
    "    N=int(input())\n",
    "    arr=list(map(int,input().split()))\n",
    "    x=int(input())\n",
    "    count=0\n",
    "    n = len(arr)\n",
    "    \n",
    "    for i in range(n - 2):\n",
    "        for j in range(i + 1, n - 1):\n",
    "            for k in range(j + 1, n):\n",
    "                if arr[i] + arr[j] + arr[k] == x:\n",
    "                    count += 1\n",
    "    \n",
    "    print(count)"
   ]
  },
  {
   "cell_type": "markdown",
   "metadata": {},
   "source": [
    "6.sort 0 1"
   ]
  },
  {
   "cell_type": "markdown",
   "metadata": {},
   "source": [
    "t=1\n",
    "N=7\n",
    "arr=0 1 1 0 1 0 1"
   ]
  },
  {
   "cell_type": "code",
   "execution_count": 37,
   "metadata": {},
   "outputs": [
    {
     "name": "stdout",
     "output_type": "stream",
     "text": [
      "0 0 0 1 1 1 1\n"
     ]
    }
   ],
   "source": [
    "t=int(input())\n",
    "for _ in range(t):\n",
    "    N=int(input())\n",
    "    arr=list(map(int,input().split()))\n",
    "    count_zeros = 0\n",
    "    for num in arr:\n",
    "        if num == 0:\n",
    "            count_zeros += 1\n",
    "    for i in range(N):\n",
    "        if i < count_zeros:\n",
    "            arr[i] = 0\n",
    "        else:\n",
    "            arr[i] = 1\n",
    "    print(*arr)\n"
   ]
  },
  {
   "cell_type": "markdown",
   "metadata": {},
   "source": [
    "t=2\n",
    "N=8\n",
    "arr=1 0 1 1 0 1 0 1\n",
    "N=5\n",
    "arr=0 1 0 1 0"
   ]
  },
  {
   "cell_type": "code",
   "execution_count": 38,
   "metadata": {},
   "outputs": [
    {
     "name": "stdout",
     "output_type": "stream",
     "text": [
      "0 0 0 1 1 1 1 1\n",
      "0 0 0 1 1\n"
     ]
    }
   ],
   "source": [
    "t=int(input())\n",
    "for _ in range(t):\n",
    "    N=int(input())\n",
    "    arr=list(map(int,input().split()))\n",
    "    count_zeros = 0\n",
    "    for num in arr:\n",
    "        if num == 0:\n",
    "            count_zeros += 1\n",
    "    for i in range(N):\n",
    "        if i < count_zeros:\n",
    "            arr[i] = 0\n",
    "        else:\n",
    "            arr[i] = 1\n",
    "    print(*arr)\n"
   ]
  },
  {
   "cell_type": "code",
   "execution_count": 18,
   "metadata": {},
   "outputs": [
    {
     "name": "stdout",
     "output_type": "stream",
     "text": [
      "forest in cat a is there\n"
     ]
    }
   ],
   "source": [
    "s=input().split()\n",
    "for words in s:\n",
    "    reverse_word=\" \".join(s[::-1])\n",
    "    \n",
    "print(reverse_word)"
   ]
  },
  {
   "cell_type": "code",
   "execution_count": 160,
   "metadata": {},
   "outputs": [
    {
     "name": "stdout",
     "output_type": "stream",
     "text": [
      " forest in  cat  a  is  there \n"
     ]
    }
   ],
   "source": [
    "s=\"there is a cat in forest\"\n",
    "s2=\" \"\n",
    "n=len(s)\n",
    "last_index=n\n",
    "for char in range(n-1,-1,-1):\n",
    "    if s[char]==\" \":\n",
    "        s2+=s[first_index: last_index] +\" \"\n",
    "        last_index=first_index\n",
    "    elif char==0:\n",
    "        s2+=s[0:last_index]\n",
    "        last_index=first_index-1\n",
    "    first_index=char\n",
    "print(s2)  "
   ]
  }
 ],
 "metadata": {
  "kernelspec": {
   "display_name": "Python 3",
   "language": "python",
   "name": "python3"
  },
  "language_info": {
   "codemirror_mode": {
    "name": "ipython",
    "version": 3
   },
   "file_extension": ".py",
   "mimetype": "text/x-python",
   "name": "python",
   "nbconvert_exporter": "python",
   "pygments_lexer": "ipython3",
   "version": "3.11.4"
  }
 },
 "nbformat": 4,
 "nbformat_minor": 2
}
