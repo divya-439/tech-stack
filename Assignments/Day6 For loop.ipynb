{
 "cells": [
  {
   "cell_type": "markdown",
   "metadata": {},
   "source": [
    "1.Binary Pattern"
   ]
  },
  {
   "cell_type": "markdown",
   "metadata": {},
   "source": [
    "pattern\n",
    "1111\n",
    "000\n",
    "11\n",
    "0"
   ]
  },
  {
   "cell_type": "code",
   "execution_count": 15,
   "metadata": {},
   "outputs": [
    {
     "name": "stdout",
     "output_type": "stream",
     "text": [
      "1111\n",
      "000\n",
      "11\n",
      "0\n"
     ]
    }
   ],
   "source": [
    "n=int(input())\n",
    "row=1\n",
    "while(row<=n):\n",
    "    col=1\n",
    "    while(col<=n-row+1):\n",
    "        if(row%2==0):\n",
    "            print(0,end=\"\")\n",
    "        else:\n",
    "            print(1,end=\"\")\n",
    "        col+=1\n",
    "    row+=1\n",
    "    print()"
   ]
  },
  {
   "cell_type": "markdown",
   "metadata": {},
   "source": [
    "2.Print Number Pyramid"
   ]
  },
  {
   "cell_type": "markdown",
   "metadata": {},
   "source": [
    "pattern\n",
    "\n",
    "if n=4\n",
    "\n",
    "1234\n",
    " 234\n",
    "  34\n",
    "   4\n",
    "  34\n",
    " 234\n",
    "1234"
   ]
  },
  {
   "cell_type": "code",
   "execution_count": 23,
   "metadata": {},
   "outputs": [
    {
     "name": "stdout",
     "output_type": "stream",
     "text": [
      "1234\n",
      " 234\n",
      "  34\n",
      "   4\n",
      "  34\n",
      " 234\n",
      "1234\n"
     ]
    }
   ],
   "source": [
    "n=int(input())\n",
    "row=1\n",
    "while(row<=n):\n",
    "    col=1\n",
    "    while(col<=n):\n",
    "        if(row<=col):\n",
    "            print(col,end=\"\")\n",
    "        else:\n",
    "            print(\" \",end=\"\")\n",
    "        col+=1\n",
    "    row+=1\n",
    "    print()\n",
    "row=n/2\n",
    "while(row<=n):\n",
    "    col=1\n",
    "    while(col<=n):\n",
    "        if col<=n-row:\n",
    "            print(\" \",end=\"\")\n",
    "        else:\n",
    "            print(col,end=\"\")\n",
    "        col+=1\n",
    "    row+=1\n",
    "    print()\n"
   ]
  },
  {
   "cell_type": "markdown",
   "metadata": {},
   "source": [
    "input n=6"
   ]
  },
  {
   "cell_type": "code",
   "execution_count": 5,
   "metadata": {},
   "outputs": [
    {
     "name": "stdout",
     "output_type": "stream",
     "text": [
      "123456\n",
      " 23456\n",
      "  3456\n",
      "   456\n",
      "    56\n",
      "     6\n",
      "    56\n",
      "   456\n",
      "  3456\n",
      " 23456\n",
      "123456\n"
     ]
    }
   ],
   "source": [
    "n=int(input())\n",
    "row=1\n",
    "while(row<=n):\n",
    "    col=1\n",
    "    while(col<=n):\n",
    "        if(row<=col):\n",
    "            print(col,end=\"\")\n",
    "        else:\n",
    "            print(\" \",end=\"\")\n",
    "        col+=1\n",
    "    row+=1\n",
    "    print()\n",
    "row=n//2-1\n",
    "while(row<=n):\n",
    "    col=1\n",
    "    while(col<=n):\n",
    "        if col<=n-row:\n",
    "            print(\" \",end=\"\")\n",
    "        else:\n",
    "            print(col,end=\"\")\n",
    "        col+=1\n",
    "    row+=1\n",
    "    print()"
   ]
  },
  {
   "cell_type": "markdown",
   "metadata": {},
   "source": [
    "3.Diamond of stars"
   ]
  },
  {
   "cell_type": "markdown",
   "metadata": {},
   "source": [
    "input n=5"
   ]
  },
  {
   "cell_type": "code",
   "execution_count": 67,
   "metadata": {},
   "outputs": [
    {
     "name": "stdout",
     "output_type": "stream",
     "text": [
      "  *\n",
      " ***\n",
      "*****\n",
      " ***\n",
      "  *\n"
     ]
    }
   ],
   "source": [
    "n = int(input())\n",
    "\n",
    "if n % 2 == 0:\n",
    "    n+= 1 \n",
    "\n",
    "for i in range(1, n+ 1, 2):\n",
    "    spaces = \" \" * ((n- i) // 2)\n",
    "    stars = \"*\" * i\n",
    "    print(f\"{spaces}{stars}\")\n",
    "for i in range(n - 2, 0, -2):\n",
    "    spaces = \" \" * ((n - i) // 2)\n",
    "    stars = \"*\" * i\n",
    "    print(f\"{spaces}{stars}\")\n",
    "\n",
    "\n",
    "    "
   ]
  },
  {
   "cell_type": "code",
   "execution_count": 41,
   "metadata": {},
   "outputs": [
    {
     "name": "stdout",
     "output_type": "stream",
     "text": [
      "4444444\n",
      "4444444\n",
      "4444444\n",
      "4444444\n",
      "4444444\n",
      "4444444\n",
      "4444444\n"
     ]
    }
   ],
   "source": [
    "n=int(input())\n",
    "for i in range(1,n+n):\n",
    "    for j in range(1,n+n):\n",
    "        if (i==i or  i==n-i) or (j==j or j==n-i):\n",
    "            print(n,end=\"\")\n",
    "            j+=1\n",
    "        i+=1\n",
    "    print()\n",
    "    \n"
   ]
  },
  {
   "cell_type": "markdown",
   "metadata": {},
   "source": [
    "5.Print the pattern"
   ]
  },
  {
   "cell_type": "markdown",
   "metadata": {},
   "source": [
    "Pattern for N = 5\n",
    "\n",
    " 1    2   3    4   5\n",
    "\n",
    " 11   12  13   14  15\n",
    "\n",
    " 21   22  23   24  25\n",
    "\n",
    " 16   17  18   19  20\n",
    "\n",
    " 6    7    8   9   10\n",
    " "
   ]
  },
  {
   "cell_type": "code",
   "execution_count": 4,
   "metadata": {},
   "outputs": [
    {
     "name": "stdout",
     "output_type": "stream",
     "text": [
      "1 2 3 4 5 \n",
      "11 12 13 14 15 \n",
      "21 22 23 24 25 \n",
      "16 17 18 19 20 \n",
      "6 7 8 9 10 \n"
     ]
    }
   ],
   "source": [
    "N=int(input())\n",
    "for i in range(0,N,2):\n",
    "    for j in range(1,N+1):\n",
    "        num=N*i+j\n",
    "        print(num,end=\" \")\n",
    "    print()\n",
    "for i in range(N//2+1,0,-2):\n",
    "    for j in range(1,N+1):\n",
    "        num=N*i+j\n",
    "        print(num,end=\" \")\n",
    "    print()\n"
   ]
  },
  {
   "cell_type": "markdown",
   "metadata": {},
   "source": [
    "N=4"
   ]
  },
  {
   "cell_type": "code",
   "execution_count": 5,
   "metadata": {},
   "outputs": [
    {
     "name": "stdout",
     "output_type": "stream",
     "text": [
      "1 2 3 4 \n",
      "9 10 11 12 \n",
      "13 14 15 16 \n",
      "5 6 7 8 \n"
     ]
    }
   ],
   "source": [
    "N=int(input())\n",
    "for i in range(0,N,2):\n",
    "    for j in range(1,N+1):\n",
    "        num=N*i+j\n",
    "        print(num,end=\" \")\n",
    "    print()\n",
    "for i in range(N//2+1,0,-2):\n",
    "    for j in range(1,N+1):\n",
    "        num=N*i+j\n",
    "        print(num,end=\" \")\n",
    "    print()\n"
   ]
  }
 ],
 "metadata": {
  "kernelspec": {
   "display_name": "Python 3",
   "language": "python",
   "name": "python3"
  },
  "language_info": {
   "codemirror_mode": {
    "name": "ipython",
    "version": 3
   },
   "file_extension": ".py",
   "mimetype": "text/x-python",
   "name": "python",
   "nbconvert_exporter": "python",
   "pygments_lexer": "ipython3",
   "version": "3.11.4"
  }
 },
 "nbformat": 4,
 "nbformat_minor": 2
}
