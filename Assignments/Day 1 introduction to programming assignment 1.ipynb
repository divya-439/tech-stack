{
 "cells": [
  {
   "cell_type": "markdown",
   "metadata": {},
   "source": [
    "Pseudo code for triangle"
   ]
  },
  {
   "cell_type": "markdown",
   "metadata": {},
   "source": [
    "Start\n",
    "declare side1,side2,side3\n",
    "if side1=side2=side3\n",
    "    print equilateral triangle\n",
    "elif side1=side2 or side2=side3 or side3=side1\n",
    "    print isoscles triangle\n",
    "else\n",
    "    scalene triangle\n",
    "end"
   ]
  },
  {
   "cell_type": "markdown",
   "metadata": {},
   "source": [
    "Pseudo code for sum_even"
   ]
  },
  {
   "cell_type": "markdown",
   "metadata": {},
   "source": [
    "START\n",
    "declare n,sum_even=0\n",
    "for i in range(1,n)\n",
    "    if n%2==0\n",
    "        sum_even+=n\n",
    "print sum_even\n",
    "end"
   ]
  },
  {
   "cell_type": "markdown",
   "metadata": {},
   "source": [
    "Pseudo code for GCD"
   ]
  },
  {
   "cell_type": "markdown",
   "metadata": {},
   "source": [
    "START\n",
    "declare num1,num2,temp,GCD\n",
    "if n!=0\n",
    "    temp=num1\n",
    "    num2=num1%num2\n",
    "    num1=temp\n",
    "    GCD=num1\n",
    "end"
   ]
  },
  {
   "cell_type": "markdown",
   "metadata": {},
   "source": [
    "Pseudo code for check prime number"
   ]
  },
  {
   "cell_type": "markdown",
   "metadata": {},
   "source": [
    "START   \n",
    "INPUT n\n",
    "i = 2\n",
    "answer = prime\n",
    "WHILE i <= n / 2\n",
    "    rem = n % i\n",
    "    IF rem is not equal to 0\n",
    "        i = i + 1\n",
    "    ELSE\n",
    "        answer = not prime\n",
    "        END WHILE LOOP\n",
    "OUTPUT answer\n",
    "END"
   ]
  },
  {
   "cell_type": "markdown",
   "metadata": {},
   "source": [
    "Pseudo code for fibonacci numbers in a range"
   ]
  },
  {
   "cell_type": "code",
   "execution_count": null,
   "metadata": {
    "vscode": {
     "languageId": "plaintext"
    }
   },
   "outputs": [],
   "source": [
    "start\n",
    "declare a,b,c,n,i\n",
    "initialize a=1,b=1,i=2\n",
    "read n from user\n",
    "print a,b\n",
    "repeat until n\n",
    "        c=a+b\n",
    "        a=b\n",
    "        b=c\n",
    "    print c\n",
    "    i=i+1\n",
    "end\n"
   ]
  },
  {
   "cell_type": "markdown",
   "metadata": {},
   "source": [
    "Pseudo code for checking it is fibonacci or not"
   ]
  },
  {
   "cell_type": "markdown",
   "metadata": {},
   "source": [
    "start\n",
    "declare a,b,c,n\n",
    "initialze a=1,b=1,c=0\n",
    "if n==0 or n==1\n",
    "    print true\n",
    "else\n",
    "while(c<n)\n",
    "    c=a+b\n",
    "    b=a\n",
    "    a=c\n",
    "    if c==n\n",
    "        print true\n",
    "    else\n",
    "        print false\n",
    "end\n"
   ]
  }
 ],
 "metadata": {
  "kernelspec": {
   "display_name": "Python 3",
   "language": "python",
   "name": "python3"
  },
  "language_info": {
   "name": "python",
   "version": "3.11.4"
  }
 },
 "nbformat": 4,
 "nbformat_minor": 2
}
