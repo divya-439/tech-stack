{
 "cells": [
  {
   "cell_type": "markdown",
   "metadata": {},
   "source": [
    "1.Calculator"
   ]
  },
  {
   "cell_type": "markdown",
   "metadata": {},
   "source": [
    "input\n",
    "3\n",
    "2\n",
    "4\n"
   ]
  },
  {
   "cell_type": "code",
   "execution_count": 29,
   "metadata": {},
   "outputs": [
    {
     "name": "stdout",
     "output_type": "stream",
     "text": [
      "8\n"
     ]
    }
   ],
   "source": [
    "n=int(input())\n",
    "a=int(input())\n",
    "b=int(input())\n",
    "if(n==1):\n",
    "    print(a+b)\n",
    "elif(n==2):\n",
    "    print(a-b)\n",
    "elif(n==3):\n",
    "    print(a*b)\n",
    "elif(n==4):\n",
    "    print(a//b)\n",
    "elif(n==5):\n",
    "    print(a%b)\n",
    "elif(n==6):\n",
    "    pass\n",
    "elif(n==7):\n",
    "    print(\"Invalid Operation\")"
   ]
  },
  {
   "cell_type": "markdown",
   "metadata": {},
   "source": [
    "2.Reverse of a number"
   ]
  },
  {
   "cell_type": "code",
   "execution_count": 22,
   "metadata": {},
   "outputs": [
    {
     "name": "stdout",
     "output_type": "stream",
     "text": [
      "321\n"
     ]
    }
   ],
   "source": [
    "n=int(input())\n",
    "reverse_number=0\n",
    "while(n!=0):\n",
    "    rem=n%10\n",
    "    reverse_number=reverse_number*10+rem\n",
    "    n=n//10\n",
    "print(reverse_number)\n"
   ]
  },
  {
   "cell_type": "markdown",
   "metadata": {},
   "source": [
    "3.Palindrome Number"
   ]
  },
  {
   "cell_type": "code",
   "execution_count": 20,
   "metadata": {},
   "outputs": [
    {
     "name": "stdout",
     "output_type": "stream",
     "text": [
      "true\n"
     ]
    }
   ],
   "source": [
    "n=int(input())\n",
    "num=n\n",
    "temp=0\n",
    "while(n!=0):\n",
    "    rem=n%10\n",
    "    temp *= 10\n",
    "    temp += rem\n",
    "    n=n//10\n",
    "if(temp==num):\n",
    "    print(\"true\")\n",
    "else:\n",
    "    print(\"false\")"
   ]
  },
  {
   "cell_type": "markdown",
   "metadata": {},
   "source": [
    "4.Sum of even & odd"
   ]
  },
  {
   "cell_type": "markdown",
   "metadata": {},
   "source": [
    "input\n",
    "134789"
   ]
  },
  {
   "cell_type": "code",
   "execution_count": 23,
   "metadata": {},
   "outputs": [
    {
     "name": "stdout",
     "output_type": "stream",
     "text": [
      "sum of even digits 12\n",
      "sum of odd digits 20\n"
     ]
    }
   ],
   "source": [
    "n=int(input())\n",
    "even_sum=0\n",
    "odd_sum=0\n",
    "while(n!=0):\n",
    "    rem=n%10\n",
    "    if rem%2==0:\n",
    "        even_sum+=rem\n",
    "    else:\n",
    "        odd_sum+=rem\n",
    "    n=n//10\n",
    "print(\"sum of even digits\",even_sum)\n",
    "print(\"sum of odd digits\",odd_sum)"
   ]
  },
  {
   "cell_type": "markdown",
   "metadata": {},
   "source": [
    "5.Nth Fibonacci Number"
   ]
  },
  {
   "cell_type": "markdown",
   "metadata": {},
   "source": [
    "input\n",
    "6\n",
    "output\n",
    "8"
   ]
  },
  {
   "cell_type": "code",
   "execution_count": 25,
   "metadata": {},
   "outputs": [
    {
     "name": "stdout",
     "output_type": "stream",
     "text": [
      "8\n"
     ]
    }
   ],
   "source": [
    "def fibonacci_number(n):    \n",
    "    if(n<=1):\n",
    "        return n\n",
    "    else:\n",
    "        return fibonacci_number(n-1)+fibonacci_number(n-2)\n",
    "n=int(input())\n",
    "result=fibonacci_number(n)\n",
    "print(result)"
   ]
  }
 ],
 "metadata": {
  "kernelspec": {
   "display_name": "Python 3",
   "language": "python",
   "name": "python3"
  },
  "language_info": {
   "codemirror_mode": {
    "name": "ipython",
    "version": 3
   },
   "file_extension": ".py",
   "mimetype": "text/x-python",
   "name": "python",
   "nbconvert_exporter": "python",
   "pygments_lexer": "ipython3",
   "version": "3.11.4"
  }
 },
 "nbformat": 4,
 "nbformat_minor": 2
}
