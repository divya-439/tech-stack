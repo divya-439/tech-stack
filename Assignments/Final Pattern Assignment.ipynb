{
 "cells": [
  {
   "cell_type": "markdown",
   "metadata": {},
   "source": [
    "1.Hollow Alphabet Diamond pattern"
   ]
  },
  {
   "cell_type": "code",
   "execution_count": 56,
   "metadata": {},
   "outputs": [],
   "source": [
    "N=int(input())\n",
    "for i in range(0,N):\n",
    "    for j in range(0,N):\n",
    "        if(i==i and j==N-1):\n",
    "            print(\"A\",end=\"\")\n",
    "            i=i+1\n",
    "            N-=1\n",
    "        else:\n",
    "            print(\" \",end=\"\")\n",
    "    print()\n",
    "N=N+1\n",
    "for i in range(0,N+5):\n",
    "    for j in range(0,N+5):\n",
    "        if(i==j):\n",
    "            print(\"A\",end=\"\")\n",
    "        else:\n",
    "            print(\" \",end=\"\")\n",
    "    print()\n",
    "print()\n",
    "\n"
   ]
  }
 ],
 "metadata": {
  "kernelspec": {
   "display_name": "Python 3",
   "language": "python",
   "name": "python3"
  },
  "language_info": {
   "codemirror_mode": {
    "name": "ipython",
    "version": 3
   },
   "file_extension": ".py",
   "mimetype": "text/x-python",
   "name": "python",
   "nbconvert_exporter": "python",
   "pygments_lexer": "ipython3",
   "version": "3.11.4"
  }
 },
 "nbformat": 4,
 "nbformat_minor": 2
}
