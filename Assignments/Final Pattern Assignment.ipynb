{
 "cells": [
  {
   "cell_type": "markdown",
   "metadata": {},
   "source": [
    "1.Hollow Alphabet Diamond pattern"
   ]
  },
  {
   "cell_type": "code",
   "execution_count": 18,
   "metadata": {},
   "outputs": [
    {
     "name": "stdout",
     "output_type": "stream",
     "text": [
      "    A    \n",
      "   A B   \n",
      "  A   B  \n",
      " A     B \n",
      "A       B\n",
      " A     B\n",
      "  A   B \n",
      "   A B  \n",
      "    A   \n",
      "\n"
     ]
    }
   ],
   "source": [
    "N=int(input())\n",
    "for i in range(1,N+1):\n",
    "    for j in range(1,N+1):\n",
    "        if(i==i and j==N-i+1):\n",
    "            print(\"A\",end=\"\")\n",
    "        else:\n",
    "            print(\" \",end=\"\")\n",
    "    for j in range(2,N+1):\n",
    "        if(i==j):\n",
    "            print(\"B\",end=\"\")\n",
    "        else:\n",
    "            print(\" \",end=\"\")\n",
    "    print()\n",
    "for i in range(1,N):\n",
    "    for j in range(0,N):\n",
    "        if(i==j):\n",
    "            print(\"A\",end=\"\")\n",
    "        else:\n",
    "            print(\" \",end=\"\")\n",
    "    for j in range(2,N):\n",
    "        if (i==i and j==N-i):\n",
    "            print(\"B\",end=\"\")\n",
    "        else:\n",
    "            print(\" \",end=\"\")\n",
    "    print()\n",
    "print()\n"
   ]
  },
  {
   "cell_type": "markdown",
   "metadata": {},
   "source": [
    "2.ALPHABET DAIMOND PATTERN"
   ]
  },
  {
   "cell_type": "code",
   "execution_count": 6,
   "metadata": {},
   "outputs": [
    {
     "name": "stdout",
     "output_type": "stream",
     "text": [
      "    A\n",
      "   ABC\n",
      "  ABCDE\n",
      " ABCDEFG\n",
      "ABCDEFGHI\n",
      " ABCDEFG\n",
      "  ABCDE\n",
      "   ABC\n",
      "    A\n"
     ]
    }
   ],
   "source": [
    "n = int(input())\n",
    "for i in range(1,n+1,1):\n",
    "    for j in range(0,n-i,1):\n",
    "        print(\" \",end=\"\")\n",
    "    for j in range(1,i+i,1):\n",
    "        print(chr(64+j),end=\"\")\n",
    "    print()\n",
    "for i in range(n-1,0,-1):\n",
    "    for j in range(0,n-i,1):\n",
    "        print(\" \",end=\"\")\n",
    "    for j in range(1,i+i,1):\n",
    "        print(chr(64+j),end=\"\")\n",
    "    print()"
   ]
  },
  {
   "cell_type": "markdown",
   "metadata": {},
   "source": [
    "3.Hollow Alphabet Pyramid Pattern"
   ]
  },
  {
   "cell_type": "code",
   "execution_count": 3,
   "metadata": {},
   "outputs": [
    {
     "name": "stdout",
     "output_type": "stream",
     "text": [
      "    A\n",
      "   B C\n",
      "  D   E\n",
      " F     G\n",
      "HIJKLMNOP\n"
     ]
    }
   ],
   "source": [
    "n = int(input())\n",
    "x = 1\n",
    "for i in range(1,n+1,1):\n",
    "    for j in range(0,n-i,1):\n",
    "        print(\" \",end=\"\")\n",
    "    for j in range(1,i+i,1):\n",
    "        if j == 1 or j == i+i-1 or i == n:\n",
    "            print(chr(64+x),end=\"\")\n",
    "            x += 1\n",
    "        else:\n",
    "            print(\" \", end=\"\")\n",
    "    print()\n"
   ]
  },
  {
   "cell_type": "markdown",
   "metadata": {},
   "source": [
    "4.NUMBER DIAMOND PATTERN"
   ]
  },
  {
   "cell_type": "code",
   "execution_count": 5,
   "metadata": {},
   "outputs": [
    {
     "name": "stdout",
     "output_type": "stream",
     "text": [
      "    1\n",
      "   123\n",
      "  12345\n",
      " 1234567\n",
      "123456789\n",
      " 1234567\n",
      "  12345\n",
      "   123\n",
      "    1\n"
     ]
    }
   ],
   "source": [
    "n = int(input())\n",
    "for i in range(1,n+1,1):\n",
    "    for j in range(0,n-i,1):\n",
    "        print(\" \",end=\"\")\n",
    "    for j in range(1,i+i,1):\n",
    "        print(j,end=\"\")\n",
    "    print()\n",
    "for i in range(n-1,0,-1):\n",
    "    for j in range(0,n-i,1):\n",
    "        print(\" \",end=\"\")\n",
    "    for j in range(1,i+i,1):\n",
    "        print(j,end=\"\")\n",
    "    print()"
   ]
  },
  {
   "cell_type": "markdown",
   "metadata": {},
   "source": [
    "5.CROSS PATTERN PROGRAM"
   ]
  },
  {
   "cell_type": "markdown",
   "metadata": {},
   "source": [
    "N=5"
   ]
  },
  {
   "cell_type": "code",
   "execution_count": 144,
   "metadata": {},
   "outputs": [
    {
     "name": "stdout",
     "output_type": "stream",
     "text": [
      "*   *\n",
      " * * \n",
      "  *  \n",
      " * * \n",
      "*   *\n"
     ]
    }
   ],
   "source": [
    "N=int(input())\n",
    "for i in range(1,N+1):\n",
    "    for j in range(1,N+1):\n",
    "        if(i==i and j==N-i+1) or (i==j):\n",
    "            print(\"*\",end=\"\")\n",
    "        else:\n",
    "            print(\" \",end=\"\")\n",
    "    print()"
   ]
  },
  {
   "cell_type": "markdown",
   "metadata": {},
   "source": [
    "6.Heart in python"
   ]
  },
  {
   "cell_type": "markdown",
   "metadata": {},
   "source": [
    "n=6"
   ]
  },
  {
   "cell_type": "code",
   "execution_count": 33,
   "metadata": {},
   "outputs": [
    {
     "name": "stdout",
     "output_type": "stream",
     "text": [
      " ***   ***\n",
      "***** *****\n",
      "***********\n",
      " *********\n",
      "  *******\n",
      "   *****\n",
      "    ***\n",
      "     *\n"
     ]
    }
   ],
   "source": [
    "n=int(input())\n",
    "x=3\n",
    "if n%2!=0:\n",
    "    x==2\n",
    "for i in range(x,n,2):\n",
    "    for j in range(0,(n-i)//2,1):\n",
    "        print(\" \",end=\"\")\n",
    "    for j in range(0,i,1):\n",
    "        print(\"*\",end=\"\")\n",
    "    for j in range(0,n-i,1):\n",
    "        print(\" \",end=\"\")\n",
    "    for j in range(0,i,1):\n",
    "        print(\"*\",end=\"\")\n",
    "    print()\n",
    "for i in range(0,n,1):\n",
    "    for j in range(1,i+1,1):\n",
    "        print(\" \",end=\"\")\n",
    "    for j in range(1,2*n-i*2,1):\n",
    "        print(\"*\",end=\"\")\n",
    "    print()\n"
   ]
  },
  {
   "cell_type": "markdown",
   "metadata": {},
   "source": [
    "6.Hourglass star pattern"
   ]
  },
  {
   "cell_type": "markdown",
   "metadata": {},
   "source": [
    "n=5"
   ]
  },
  {
   "cell_type": "code",
   "execution_count": 256,
   "metadata": {},
   "outputs": [
    {
     "name": "stdout",
     "output_type": "stream",
     "text": [
      " *********\n",
      "  *******\n",
      "   *****\n",
      "    ***\n",
      "     *\n",
      "     *\n",
      "    ***\n",
      "   *****\n",
      "  *******\n",
      " *********\n"
     ]
    }
   ],
   "source": [
    "n=int(input())\n",
    "row=1\n",
    "while(row<=n):\n",
    "    col=1\n",
    "    while(col<=n):\n",
    "        if(row<=col):\n",
    "            print(\"*\",end=\"\")\n",
    "        else:\n",
    "            print(\" \",end=\"\")\n",
    "        col+=1\n",
    "    col=2\n",
    "    while(col<=n):\n",
    "        if(col<=n-row+1):\n",
    "            print(\"*\",end=\"\")\n",
    "        else:\n",
    "            print(\" \",end=\"\")\n",
    "        col+=1\n",
    "    row+=1\n",
    "    print()\n",
    "row=2\n",
    "while(row<=n):\n",
    "    col=1\n",
    "    while col<=n:\n",
    "        if col<=n-row:\n",
    "            print(\" \",end=\"\")\n",
    "        else:\n",
    "            print(\"*\",end=\"\")\n",
    "        col+=1   \n",
    "    col=2\n",
    "    while(col<=row):\n",
    "        print(\"*\",end=\"\")\n",
    "        col+=1\n",
    "    row+=1\n",
    "    print()\n"
   ]
  },
  {
   "cell_type": "code",
   "execution_count": 257,
   "metadata": {},
   "outputs": [
    {
     "name": "stdout",
     "output_type": "stream",
     "text": [
      " *********\n",
      "  *******\n",
      "   *****\n",
      "    ***\n",
      "     *\n",
      "     *\n",
      "    ***\n",
      "   *****\n",
      "  *******\n",
      " *********\n"
     ]
    }
   ],
   "source": [
    "n=int(input())\n",
    "for i in range(n-1,-1,-1):\n",
    "    spaces = \" \" * ((n- i))\n",
    "    stars = \"*\" * (2*i + 1)\n",
    "    print(f\"{spaces}{stars}\")\n",
    "for i in range(0,n):\n",
    "    spaces = \" \" * ((n- i))\n",
    "    stars = \"*\" * (2*i + 1)\n",
    "    print(f\"{spaces}{stars}\")"
   ]
  },
  {
   "cell_type": "code",
   "execution_count": 34,
   "metadata": {},
   "outputs": [
    {
     "name": "stdout",
     "output_type": "stream",
     "text": [
      "[0, 0, 1, 1, 2, 2]\n"
     ]
    }
   ],
   "source": [
    "def bubbleSort(arr):\n",
    "    for i in range(len(arr)):\n",
    "        for j in range(0,len(arr)-i-1):\n",
    "            if(arr[j]>arr[j+1]):\n",
    "                (arr[j],arr[j+1])=(arr[j+1],arr[j])\n",
    "arr=[2,0,1,0,2,1]\n",
    "bubbleSort(arr)\n",
    "print(arr)"
   ]
  },
  {
   "cell_type": "code",
   "execution_count": 83,
   "metadata": {},
   "outputs": [
    {
     "name": "stdout",
     "output_type": "stream",
     "text": [
      "[2, 3, 4, 5, 6, 7, 9, 10]\n"
     ]
    }
   ],
   "source": [
    "def selectionSort(arr):\n",
    "    for step in range(len(arr)):\n",
    "        minimum=step\n",
    "        for i in range(0,len(arr)-1):\n",
    "            if(arr[i]>arr[minimum]):\n",
    "                (arr[i],arr[minimum])=(arr[minimum],arr[i])\n",
    "arr=[10,2,4,3,6,5, 7, 9]\n",
    "selectionSort(arr)\n",
    "print(arr)"
   ]
  }
 ],
 "metadata": {
  "kernelspec": {
   "display_name": "Python 3",
   "language": "python",
   "name": "python3"
  },
  "language_info": {
   "codemirror_mode": {
    "name": "ipython",
    "version": 3
   },
   "file_extension": ".py",
   "mimetype": "text/x-python",
   "name": "python",
   "nbconvert_exporter": "python",
   "pygments_lexer": "ipython3",
   "version": "3.11.4"
  }
 },
 "nbformat": 4,
 "nbformat_minor": 2
}
