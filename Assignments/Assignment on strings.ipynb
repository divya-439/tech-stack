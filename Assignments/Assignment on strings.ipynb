{
 "cells": [
  {
   "cell_type": "markdown",
   "metadata": {},
   "source": [
    "1.Remove Consecutive Duplicates\n"
   ]
  },
  {
   "cell_type": "markdown",
   "metadata": {},
   "source": [
    "input=aabbcd\n",
    "output=abcd"
   ]
  },
  {
   "cell_type": "code",
   "execution_count": 15,
   "metadata": {},
   "outputs": [
    {
     "name": "stdout",
     "output_type": "stream",
     "text": [
      "abcd"
     ]
    }
   ],
   "source": [
    "s=str(input())\n",
    "n=len(s)\n",
    "for i in range(n):\n",
    "    if (s[i-1]!=s[i]):\n",
    "        print(s[i],end=\"\")"
   ]
  },
  {
   "cell_type": "markdown",
   "metadata": {},
   "source": [
    "2.Reverse Each word"
   ]
  },
  {
   "cell_type": "code",
   "execution_count": 7,
   "metadata": {},
   "outputs": [
    {
     "name": "stdout",
     "output_type": "stream",
     "text": [
      "emocleW ot gnidoC sajniN\n"
     ]
    }
   ],
   "source": [
    "s1=str(input()).split()\n",
    "reverse_words = [word[::-1] for word in s1]\n",
    "reverse_string=' '.join(reverse_words)\n",
    "print(reverse_string)\n",
    "\n",
    "     "
   ]
  },
  {
   "cell_type": "markdown",
   "metadata": {},
   "source": [
    "3.Remove Character"
   ]
  },
  {
   "cell_type": "markdown",
   "metadata": {},
   "source": [
    "input\n",
    "aabccbaa\n",
    "remove a"
   ]
  },
  {
   "cell_type": "code",
   "execution_count": 23,
   "metadata": {},
   "outputs": [
    {
     "name": "stdout",
     "output_type": "stream",
     "text": [
      "bccb\n"
     ]
    }
   ],
   "source": [
    "s=input()\n",
    "result=s.replace(\"a\",\"\")\n",
    "print(result)    "
   ]
  },
  {
   "cell_type": "markdown",
   "metadata": {},
   "source": [
    "input xxyyzxx\n",
    "remove y\n"
   ]
  },
  {
   "cell_type": "code",
   "execution_count": 22,
   "metadata": {},
   "outputs": [
    {
     "name": "stdout",
     "output_type": "stream",
     "text": [
      "xxzxx\n"
     ]
    }
   ],
   "source": [
    "s=input()\n",
    "result=s.replace(\"y\",\"\")\n",
    "print(result)"
   ]
  },
  {
   "cell_type": "markdown",
   "metadata": {},
   "source": [
    "4.Highest Occuring Character"
   ]
  },
  {
   "cell_type": "markdown",
   "metadata": {},
   "source": [
    "input abdefgbabfba"
   ]
  },
  {
   "cell_type": "code",
   "execution_count": 28,
   "metadata": {},
   "outputs": [
    {
     "name": "stdout",
     "output_type": "stream",
     "text": [
      "The highest occurring character is: b\n"
     ]
    }
   ],
   "source": [
    "s=input()\n",
    "char_frequency={}\n",
    "for char in s:\n",
    "    if char in char_frequency:\n",
    "        char_frequency[char] += 1\n",
    "    else:\n",
    "        char_frequency[char] = 1\n",
    "max_char = None\n",
    "max_count = 0\n",
    "for char, count in char_frequency.items():\n",
    "    if count > max_count:\n",
    "        max_char = char\n",
    "        max_count = count\n",
    "print(\"The highest occurring character is:\", max_char)\n"
   ]
  },
  {
   "cell_type": "markdown",
   "metadata": {},
   "source": [
    "5.Compress the string"
   ]
  },
  {
   "cell_type": "markdown",
   "metadata": {},
   "source": [
    "input=aaabbccdsa\n",
    "output=a3b2c2dsa"
   ]
  },
  {
   "cell_type": "code",
   "execution_count": 6,
   "metadata": {},
   "outputs": [
    {
     "name": "stdout",
     "output_type": "stream",
     "text": [
      "a3b2c2d1s1a1\n"
     ]
    }
   ],
   "source": [
    "input_string = input().strip()\n",
    "compressed = \"\"\n",
    "n = len(input_string)\n",
    "if n > 0:\n",
    "    current_char = input_string[0]\n",
    "    count = 1\n",
    "    for i in range(1, n):\n",
    "        if input_string[i] == current_char:\n",
    "            count += 1\n",
    "        else:\n",
    "            compressed += current_char + str(count)\n",
    "            current_char = input_string[i]\n",
    "            count = 1\n",
    "    compressed += current_char + str(count)\n",
    "print(compressed)\n",
    "\n"
   ]
  }
 ],
 "metadata": {
  "kernelspec": {
   "display_name": "Python 3",
   "language": "python",
   "name": "python3"
  },
  "language_info": {
   "codemirror_mode": {
    "name": "ipython",
    "version": 3
   },
   "file_extension": ".py",
   "mimetype": "text/x-python",
   "name": "python",
   "nbconvert_exporter": "python",
   "pygments_lexer": "ipython3",
   "version": "3.11.4"
  }
 },
 "nbformat": 4,
 "nbformat_minor": 2
}
