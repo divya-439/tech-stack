{
 "cells": [
  {
   "cell_type": "code",
   "execution_count": 1,
   "metadata": {},
   "outputs": [
    {
     "name": "stdout",
     "output_type": "stream",
     "text": [
      "1 \n",
      "1 1 \n",
      "1 1 1 \n",
      "1 1 1 1 \n"
     ]
    }
   ],
   "source": [
    "n=int(input())\n",
    "row=1\n",
    "while(row<=n):\n",
    "    col=1\n",
    "    while(col<=row):\n",
    "        print(1,end=\" \")\n",
    "        col+=1\n",
    "    row+=1\n",
    "    print()"
   ]
  },
  {
   "cell_type": "code",
   "execution_count": 2,
   "metadata": {},
   "outputs": [
    {
     "name": "stdout",
     "output_type": "stream",
     "text": [
      "1 \n",
      "1 1 \n",
      "1 1 1 \n",
      "1 1 1 1 \n",
      "1 1 1 1 1 \n"
     ]
    }
   ],
   "source": [
    "n=int(input())\n",
    "row=1\n",
    "while(row<=n):\n",
    "    col=1\n",
    "    while(col<=row):\n",
    "        print(1,end=\" \")\n",
    "        col+=1\n",
    "    row+=1\n",
    "    print()\n",
    "    "
   ]
  },
  {
   "cell_type": "markdown",
   "metadata": {},
   "source": [
    "Pattern 2"
   ]
  },
  {
   "cell_type": "code",
   "execution_count": 35,
   "metadata": {},
   "outputs": [
    {
     "name": "stdout",
     "output_type": "stream",
     "text": [
      "1 \n",
      "1 1 \n",
      "2 0 2 \n",
      "3 0 0 3 \n"
     ]
    }
   ],
   "source": [
    "n=int(input())\n",
    "row=1\n",
    "while(row<=n):\n",
    "    col=1\n",
    "    while(col<=row):\n",
    "        if(col==row==1):\n",
    "            print(row,end=\" \")\n",
    "        elif(col==1 or col==row):\n",
    "            print(row-1,end=\" \")\n",
    "        else:\n",
    "            print(0,end=\" \")\n",
    "        col+=1\n",
    "    row+=1\n",
    "    print()"
   ]
  },
  {
   "cell_type": "code",
   "execution_count": 36,
   "metadata": {},
   "outputs": [
    {
     "name": "stdout",
     "output_type": "stream",
     "text": [
      "1 \n",
      "1 1 \n",
      "2 0 2 \n",
      "3 0 0 3 \n",
      "4 0 0 0 4 \n"
     ]
    }
   ],
   "source": [
    "n=int(input())\n",
    "row=1\n",
    "while(row<=n):\n",
    "    col=1\n",
    "    while(col<=row):\n",
    "        if(col==row==1):\n",
    "            print(row,end=\" \")\n",
    "        elif(col==1 or col==row):\n",
    "            print(row-1,end=\" \")\n",
    "        else:\n",
    "            print(0,end=\" \")\n",
    "        col+=1\n",
    "    row+=1\n",
    "    print()"
   ]
  },
  {
   "cell_type": "markdown",
   "metadata": {},
   "source": [
    "pattern 3"
   ]
  },
  {
   "cell_type": "code",
   "execution_count": 25,
   "metadata": {},
   "outputs": [
    {
     "name": "stdout",
     "output_type": "stream",
     "text": [
      "1 \n",
      "1 1 \n",
      "1 2 1 \n",
      "1 2 2 1 \n"
     ]
    }
   ],
   "source": [
    "n=int(input())\n",
    "row=1\n",
    "while (row<=n):\n",
    "    col=1\n",
    "    while(col<=row):\n",
    "        if(col==1 or col==row):\n",
    "            print(1,end=\" \")\n",
    "        else:\n",
    "            print(2,end=\" \")\n",
    "        col+=1\n",
    "    row+=1\n",
    "    print()"
   ]
  },
  {
   "cell_type": "code",
   "execution_count": 26,
   "metadata": {},
   "outputs": [
    {
     "name": "stdout",
     "output_type": "stream",
     "text": [
      "1 \n",
      "1 1 \n",
      "1 2 1 \n",
      "1 2 2 1 \n",
      "1 2 2 2 1 \n"
     ]
    }
   ],
   "source": [
    "n=int(input())\n",
    "row=1\n",
    "while (row<=n):\n",
    "    col=1\n",
    "    while(col<=row):\n",
    "        if(col==1 or col==row):\n",
    "            print(1,end=\" \")\n",
    "        else:\n",
    "            print(2,end=\" \")\n",
    "        col+=1\n",
    "    row+=1\n",
    "    print()"
   ]
  },
  {
   "cell_type": "markdown",
   "metadata": {},
   "source": [
    "Pattern 4"
   ]
  },
  {
   "cell_type": "code",
   "execution_count": 27,
   "metadata": {},
   "outputs": [
    {
     "name": "stdout",
     "output_type": "stream",
     "text": [
      "1234\n",
      "123\n",
      "12\n",
      "1\n"
     ]
    }
   ],
   "source": [
    "n=int(input())\n",
    "row=1\n",
    "while(row<=n):\n",
    "    col=1\n",
    "    while(col<=n+1-row):\n",
    "        print(col,end=\"\")\n",
    "        col+=1\n",
    "    row+=1\n",
    "    print()"
   ]
  },
  {
   "cell_type": "code",
   "execution_count": 28,
   "metadata": {},
   "outputs": [
    {
     "name": "stdout",
     "output_type": "stream",
     "text": [
      "12345\n",
      "1234\n",
      "123\n",
      "12\n",
      "1\n"
     ]
    }
   ],
   "source": [
    "n=int(input())\n",
    "row=1\n",
    "while(row<=n):\n",
    "    col=1\n",
    "    while(col<=n+1-row):\n",
    "        print(col,end=\"\")\n",
    "        col+=1\n",
    "    row+=1\n",
    "    print()"
   ]
  },
  {
   "cell_type": "markdown",
   "metadata": {},
   "source": [
    "Pattern 5"
   ]
  },
  {
   "cell_type": "markdown",
   "metadata": {},
   "source": [
    "Alpha Pattern"
   ]
  },
  {
   "cell_type": "code",
   "execution_count": 29,
   "metadata": {},
   "outputs": [
    {
     "name": "stdout",
     "output_type": "stream",
     "text": [
      "A \n",
      "B B \n",
      "C C C \n"
     ]
    }
   ],
   "source": [
    "n=int(input())\n",
    "row=1\n",
    "while(row<=n):\n",
    "    col=1\n",
    "    while(col<=row):\n",
    "        print(chr(row+64),end=\" \")\n",
    "        col+=1\n",
    "    row+=1\n",
    "    print()"
   ]
  },
  {
   "cell_type": "code",
   "execution_count": 30,
   "metadata": {},
   "outputs": [
    {
     "name": "stdout",
     "output_type": "stream",
     "text": [
      "A \n",
      "B B \n",
      "C C C \n",
      "D D D D \n",
      "E E E E E \n",
      "F F F F F F \n",
      "G G G G G G G \n"
     ]
    }
   ],
   "source": [
    "n=int(input())\n",
    "row=1\n",
    "while(row<=n):\n",
    "    col=1\n",
    "    while(col<=row):\n",
    "        print(chr(row+64),end=\" \")\n",
    "        col+=1\n",
    "    row+=1\n",
    "    print()"
   ]
  },
  {
   "cell_type": "code",
   "execution_count": 31,
   "metadata": {},
   "outputs": [
    {
     "name": "stdout",
     "output_type": "stream",
     "text": [
      "A \n",
      "B B \n",
      "C C C \n",
      "D D D D \n",
      "E E E E E \n",
      "F F F F F F \n"
     ]
    }
   ],
   "source": [
    "n=int(input())\n",
    "row=1\n",
    "while(row<=n):\n",
    "    col=1\n",
    "    while(col<=row):\n",
    "        print(chr(row+64),end=\" \")\n",
    "        col+=1\n",
    "    row+=1\n",
    "    print()"
   ]
  }
 ],
 "metadata": {
  "kernelspec": {
   "display_name": "Python 3",
   "language": "python",
   "name": "python3"
  },
  "language_info": {
   "codemirror_mode": {
    "name": "ipython",
    "version": 3
   },
   "file_extension": ".py",
   "mimetype": "text/x-python",
   "name": "python",
   "nbconvert_exporter": "python",
   "pygments_lexer": "ipython3",
   "version": "3.11.4"
  }
 },
 "nbformat": 4,
 "nbformat_minor": 2
}
