{
 "cells": [
  {
   "cell_type": "markdown",
   "metadata": {},
   "source": [
    "Number Pattern"
   ]
  },
  {
   "cell_type": "code",
   "execution_count": 60,
   "metadata": {},
   "outputs": [
    {
     "name": "stdout",
     "output_type": "stream",
     "text": [
      "1             1 \n",
      "1 2         2 1 \n",
      "1 2 3     3 2 1 \n",
      "1 2 3 4 4 3 2 1 \n"
     ]
    }
   ],
   "source": [
    "n=int(input())\n",
    "row=1\n",
    "while(row<=n):\n",
    "    col=1\n",
    "    while col<=n:\n",
    "        if col<=row:\n",
    "            print(col,end=\" \")\n",
    "        else:\n",
    "            print(\" \",end=\" \")\n",
    "        col+=1\n",
    "    col=1\n",
    "    while col<=n:\n",
    "        if col<=n-row:\n",
    "            print(\" \",end=\" \")\n",
    "        else:\n",
    "            print(n-col+1,end=\" \")\n",
    "        col+=1\n",
    "    row+=1\n",
    "    print()"
   ]
  },
  {
   "cell_type": "markdown",
   "metadata": {},
   "source": [
    "2.Zeros and star pattern"
   ]
  },
  {
   "cell_type": "code",
   "execution_count": 70,
   "metadata": {},
   "outputs": [
    {
     "name": "stdout",
     "output_type": "stream",
     "text": [
      "* 0 0 0 * 0 0 0 * \n",
      "0 * 0 0 * 0 0 * 0 \n",
      "0 0 * 0 * 0 * 0 0 \n",
      "0 0 0 * * * 0 0 0 \n"
     ]
    }
   ],
   "source": [
    "n=int(input())\n",
    "row=1\n",
    "while(row<=n):\n",
    "    col=1\n",
    "    while(col<=n):\n",
    "        if(col==row):\n",
    "            print(\"*\",end=\" \")\n",
    "        else:\n",
    "            print(0,end=\" \")\n",
    "        col+=1\n",
    "    col=1\n",
    "    while(col<=n):\n",
    "        if(col==1):\n",
    "            print(\"*\",end=\" \")\n",
    "        col+=1\n",
    "    col=1\n",
    "    while(col<=n):\n",
    "        if(col<=n-row or col>=n-row+2):\n",
    "            print(0,end=\" \")\n",
    "        else:\n",
    "            print(\"*\",end=\" \")\n",
    "        col+=1\n",
    "    row+=1\n",
    "    print()\n",
    "    "
   ]
  },
  {
   "cell_type": "markdown",
   "metadata": {},
   "source": [
    "n=3"
   ]
  },
  {
   "cell_type": "code",
   "execution_count": 71,
   "metadata": {},
   "outputs": [
    {
     "name": "stdout",
     "output_type": "stream",
     "text": [
      "* 0 0 * 0 0 * \n",
      "0 * 0 * 0 * 0 \n",
      "0 0 * * * 0 0 \n"
     ]
    }
   ],
   "source": [
    "n=int(input())\n",
    "row=1\n",
    "while(row<=n):\n",
    "    col=1\n",
    "    while(col<=n):\n",
    "        if(col==row):\n",
    "            print(\"*\",end=\" \")\n",
    "        else:\n",
    "            print(0,end=\" \")\n",
    "        col+=1\n",
    "    col=1\n",
    "    while(col<=n):\n",
    "        if(col==1):\n",
    "            print(\"*\",end=\" \")\n",
    "        col+=1\n",
    "    col=1\n",
    "    while(col<=n):\n",
    "        if(col<=n-row or col>=n-row+2):\n",
    "            print(0,end=\" \")\n",
    "        else:\n",
    "            print(\"*\",end=\" \")\n",
    "        col+=1\n",
    "    row+=1\n",
    "    print()"
   ]
  },
  {
   "cell_type": "markdown",
   "metadata": {},
   "source": [
    "When N=5"
   ]
  },
  {
   "cell_type": "code",
   "execution_count": 72,
   "metadata": {},
   "outputs": [
    {
     "name": "stdout",
     "output_type": "stream",
     "text": [
      "* 0 0 0 0 * 0 0 0 0 * \n",
      "0 * 0 0 0 * 0 0 0 * 0 \n",
      "0 0 * 0 0 * 0 0 * 0 0 \n",
      "0 0 0 * 0 * 0 * 0 0 0 \n",
      "0 0 0 0 * * * 0 0 0 0 \n"
     ]
    }
   ],
   "source": [
    "n=int(input())\n",
    "row=1\n",
    "while(row<=n):\n",
    "    col=1\n",
    "    while(col<=n):\n",
    "        if(col==row):\n",
    "            print(\"*\",end=\" \")\n",
    "        else:\n",
    "            print(0,end=\" \")\n",
    "        col+=1\n",
    "    col=1\n",
    "    while(col<=n):\n",
    "        if(col==1):\n",
    "            print(\"*\",end=\" \")\n",
    "        col+=1\n",
    "    col=1\n",
    "    while(col<=n):\n",
    "        if(col<=n-row or col>=n-row+2):\n",
    "            print(0,end=\" \")\n",
    "        else:\n",
    "            print(\"*\",end=\" \")\n",
    "        col+=1\n",
    "    row+=1\n",
    "    print()"
   ]
  },
  {
   "cell_type": "markdown",
   "metadata": {},
   "source": [
    "3.Pyramid Number Pattern"
   ]
  },
  {
   "cell_type": "code",
   "execution_count": 82,
   "metadata": {},
   "outputs": [
    {
     "name": "stdout",
     "output_type": "stream",
     "text": [
      "        1 \n",
      "      2 1 2 \n",
      "    3 2 1 2 3 \n",
      "  4 3 2 1 2 3 4 \n",
      "5 4 3 2 1 2 3 4 5 \n"
     ]
    }
   ],
   "source": [
    "n=int(input())\n",
    "row=1\n",
    "while(row<=n):\n",
    "    col=1\n",
    "    while col<=n:\n",
    "        if col<=n-row:\n",
    "            print(\" \",end=\" \")\n",
    "        else:\n",
    "            print(n-col+1,end=\" \")\n",
    "        col+=1   \n",
    "    col=2\n",
    "    while(col<=row):\n",
    "        print(col,end=\" \")\n",
    "        col+=1\n",
    "    row+=1\n",
    "    print()\n"
   ]
  },
  {
   "cell_type": "markdown",
   "metadata": {},
   "source": [
    "4.Arrow pattern"
   ]
  },
  {
   "cell_type": "code",
   "execution_count": 1,
   "metadata": {},
   "outputs": [
    {
     "name": "stdout",
     "output_type": "stream",
     "text": [
      "*\n",
      " **\n",
      "  ***\n",
      "   ****\n",
      "  ***\n",
      " **\n",
      "*\n"
     ]
    }
   ],
   "source": [
    "n=int(input())\n",
    "row=1\n",
    "while(row<=(n/2)+1):\n",
    "    col=1\n",
    "    while(col<=(row-1)):\n",
    "        print(\" \",end=\"\")\n",
    "        col+=1\n",
    "    col=1\n",
    "    while(col<=row):\n",
    "        print(\"*\",end=\"\")\n",
    "        col+=1\n",
    "    row+=1\n",
    "    print()\n",
    "row = n/2\n",
    "while(row>=1):\n",
    "    col=1\n",
    "    while(col<=row-1):\n",
    "        print(\" \",end=\"\")\n",
    "        col+=1\n",
    "    col=1\n",
    "    while(col<=row):\n",
    "        print(\"*\",end=\"\")\n",
    "        col+=1\n",
    "    row-=1\n",
    "    print()\n"
   ]
  }
 ],
 "metadata": {
  "kernelspec": {
   "display_name": "Python 3",
   "language": "python",
   "name": "python3"
  },
  "language_info": {
   "codemirror_mode": {
    "name": "ipython",
    "version": 3
   },
   "file_extension": ".py",
   "mimetype": "text/x-python",
   "name": "python",
   "nbconvert_exporter": "python",
   "pygments_lexer": "ipython3",
   "version": "3.11.4"
  }
 },
 "nbformat": 4,
 "nbformat_minor": 2
}
