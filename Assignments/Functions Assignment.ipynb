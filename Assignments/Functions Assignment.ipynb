{
 "cells": [
  {
   "cell_type": "markdown",
   "metadata": {},
   "source": [
    "1.Fahrenhit to celsius Function"
   ]
  },
  {
   "cell_type": "markdown",
   "metadata": {},
   "source": [
    "input\n",
    "S=0\n",
    "E=100\n",
    "W=20"
   ]
  },
  {
   "cell_type": "code",
   "execution_count": 5,
   "metadata": {},
   "outputs": [
    {
     "name": "stdout",
     "output_type": "stream",
     "text": [
      "0 -17\n",
      "20 -6\n",
      "40 4\n",
      "60 15\n",
      "80 26\n",
      "100 37\n"
     ]
    }
   ],
   "source": [
    "S=int(input())\n",
    "E=int(input())\n",
    "W=int(input())\n",
    "for f in range(S,E+1,W):\n",
    "    C=(f-32)*(5/9)\n",
    "    print(f,int(C))"
   ]
  },
  {
   "cell_type": "markdown",
   "metadata": {},
   "source": [
    "input\n",
    "S=120\n",
    "E=200\n",
    "W=40"
   ]
  },
  {
   "cell_type": "code",
   "execution_count": 6,
   "metadata": {},
   "outputs": [
    {
     "name": "stdout",
     "output_type": "stream",
     "text": [
      "120 48\n",
      "160 71\n",
      "200 93\n"
     ]
    }
   ],
   "source": [
    "S=int(input())\n",
    "E=int(input())\n",
    "W=int(input())\n",
    "for f in range(S,E+1,W):\n",
    "    C=(f-32)*(5/9)\n",
    "    print(f,int(C))"
   ]
  },
  {
   "cell_type": "markdown",
   "metadata": {},
   "source": [
    "2.Fibonacci Number"
   ]
  },
  {
   "cell_type": "markdown",
   "metadata": {},
   "source": [
    "input=5"
   ]
  },
  {
   "cell_type": "code",
   "execution_count": 31,
   "metadata": {},
   "outputs": [
    {
     "name": "stdout",
     "output_type": "stream",
     "text": [
      "true\n"
     ]
    }
   ],
   "source": [
    "N=int(input())\n",
    "a=0\n",
    "b=1\n",
    "c=a+b\n",
    "if(c<=N):\n",
    "    a=b\n",
    "    b=c\n",
    "    c=a+b\n",
    "    print(\"true\")\n",
    "else:\n",
    "    print(\"false\")"
   ]
  },
  {
   "cell_type": "markdown",
   "metadata": {},
   "source": [
    "3.Palindrome Number"
   ]
  },
  {
   "cell_type": "markdown",
   "metadata": {},
   "source": [
    "n=1032"
   ]
  },
  {
   "cell_type": "code",
   "execution_count": 3,
   "metadata": {},
   "outputs": [
    {
     "name": "stdout",
     "output_type": "stream",
     "text": [
      "false\n"
     ]
    }
   ],
   "source": [
    "n=int(input())\n",
    "num=n\n",
    "sum=0\n",
    "while(n!=0):\n",
    "    rem=n%10\n",
    "    sum=sum*10+rem\n",
    "    n=n//10\n",
    "if(sum==num):\n",
    "    print(\"true\")\n",
    "else:\n",
    "    print(\"false\")"
   ]
  },
  {
   "cell_type": "markdown",
   "metadata": {},
   "source": [
    "n=121"
   ]
  },
  {
   "cell_type": "code",
   "execution_count": 4,
   "metadata": {},
   "outputs": [
    {
     "name": "stdout",
     "output_type": "stream",
     "text": [
      "true\n"
     ]
    }
   ],
   "source": [
    "n=int(input())\n",
    "num=n\n",
    "sum=0\n",
    "while(n!=0):\n",
    "    rem=n%10\n",
    "    sum=sum*10+rem\n",
    "    n=n//10\n",
    "if(sum==num):\n",
    "    print(\"true\")\n",
    "else:\n",
    "    print(\"false\")"
   ]
  },
  {
   "cell_type": "markdown",
   "metadata": {},
   "source": [
    "4.Check Armstrong"
   ]
  },
  {
   "cell_type": "markdown",
   "metadata": {},
   "source": [
    "n=1634"
   ]
  },
  {
   "cell_type": "code",
   "execution_count": 14,
   "metadata": {},
   "outputs": [
    {
     "name": "stdout",
     "output_type": "stream",
     "text": [
      "true\n"
     ]
    }
   ],
   "source": [
    "n=int(input())\n",
    "m=len(str(n))\n",
    "num=n\n",
    "sum=0\n",
    "while(n!=0):\n",
    "    rem=n%10\n",
    "    sum+=rem**m\n",
    "    n=n//10\n",
    "if(sum==num):\n",
    "    print(\"true\")\n",
    "else:\n",
    "    print(\"false\")"
   ]
  }
 ],
 "metadata": {
  "kernelspec": {
   "display_name": "Python 3",
   "language": "python",
   "name": "python3"
  },
  "language_info": {
   "codemirror_mode": {
    "name": "ipython",
    "version": 3
   },
   "file_extension": ".py",
   "mimetype": "text/x-python",
   "name": "python",
   "nbconvert_exporter": "python",
   "pygments_lexer": "ipython3",
   "version": "3.11.4"
  }
 },
 "nbformat": 4,
 "nbformat_minor": 2
}
