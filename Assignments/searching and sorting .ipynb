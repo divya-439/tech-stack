{
 "cells": [
  {
   "cell_type": "markdown",
   "metadata": {},
   "source": [
    "1.Push Zeros to end"
   ]
  },
  {
   "cell_type": "markdown",
   "metadata": {},
   "source": [
    "t=1\n",
    "N=7\n",
    "arr=2 0 0 1 3 0 0"
   ]
  },
  {
   "cell_type": "code",
   "execution_count": 6,
   "metadata": {},
   "outputs": [
    {
     "name": "stdout",
     "output_type": "stream",
     "text": [
      "2 1 3 0 0 0 0\n"
     ]
    }
   ],
   "source": [
    "t = int(input())\n",
    "for _ in range(t):\n",
    "    N = int(input())\n",
    "    arr = list(map(int, input().split()))\n",
    "    non_zeros = [num for num in arr if num != 0]\n",
    "    zeros = [0] * (N - len(non_zeros))\n",
    "    result = non_zeros + zeros\n",
    "    print(*result)\n"
   ]
  },
  {
   "cell_type": "markdown",
   "metadata": {},
   "source": [
    "t=2\n",
    "N=5\n",
    "arr=0 3 0 2 0\n",
    "N=5\n",
    "arr=9 0 0 8 2"
   ]
  },
  {
   "cell_type": "code",
   "execution_count": 8,
   "metadata": {},
   "outputs": [
    {
     "name": "stdout",
     "output_type": "stream",
     "text": [
      "3 2 0 0 0\n",
      "9 8 2 0 0\n"
     ]
    }
   ],
   "source": [
    "t = int(input())\n",
    "for _ in range(t):\n",
    "    N = int(input())\n",
    "    arr = list(map(int, input().split()))\n",
    "    non_zeros = [num for num in arr if num != 0]\n",
    "    zeros = [0] * (N - len(non_zeros))\n",
    "    result = non_zeros + zeros\n",
    "    print(*result)"
   ]
  },
  {
   "cell_type": "markdown",
   "metadata": {},
   "source": [
    "2.Rotate Array"
   ]
  },
  {
   "cell_type": "markdown",
   "metadata": {},
   "source": [
    "t=1\n",
    "N=7\n",
    "arr=1 2 3 4 5 6 7\n",
    "D=2\n"
   ]
  },
  {
   "cell_type": "code",
   "execution_count": 11,
   "metadata": {},
   "outputs": [
    {
     "name": "stdout",
     "output_type": "stream",
     "text": [
      "3 4 5 6 7 1 2\n"
     ]
    }
   ],
   "source": [
    "t = int(input())\n",
    "for _ in range(t):\n",
    "    N = int(input())\n",
    "    arr = list(map(int, input().split()))\n",
    "    D = int(input())\n",
    "    rotated_array = arr[D:] + arr[:D]\n",
    "    print(*rotated_array)"
   ]
  },
  {
   "cell_type": "markdown",
   "metadata": {},
   "source": [
    "t=2\n",
    "N=7\n",
    "arr=1 2 3 4 5 6 7\n",
    "D=0\n",
    "N=4\n",
    "arr=1 2 3 4\n",
    "D=2\n"
   ]
  },
  {
   "cell_type": "code",
   "execution_count": 12,
   "metadata": {},
   "outputs": [
    {
     "name": "stdout",
     "output_type": "stream",
     "text": [
      "1 2 3 4 5 6 7\n",
      "3 4 1 2\n"
     ]
    }
   ],
   "source": [
    "t = int(input())\n",
    "for _ in range(t):\n",
    "    N = int(input())\n",
    "    arr = list(map(int, input().split()))\n",
    "    D = int(input())\n",
    "    rotated_array = arr[D:] + arr[:D]\n",
    "    print(*rotated_array)"
   ]
  },
  {
   "cell_type": "markdown",
   "metadata": {},
   "source": [
    "3.Second Largest in array"
   ]
  },
  {
   "cell_type": "markdown",
   "metadata": {},
   "source": [
    "N=5\n",
    "arr=4 3 10 9 2"
   ]
  },
  {
   "cell_type": "code",
   "execution_count": 17,
   "metadata": {},
   "outputs": [
    {
     "name": "stdout",
     "output_type": "stream",
     "text": [
      "9\n"
     ]
    }
   ],
   "source": [
    "N=int(input())\n",
    "arr=list(map(int,input().split()))\n",
    "arr.sort()\n",
    "\n",
    "if len(arr) >= 2:\n",
    "    second_largest = arr[-2]\n",
    "    print(second_largest)\n",
    "\n"
   ]
  },
  {
   "cell_type": "markdown",
   "metadata": {},
   "source": [
    "N=7\n",
    "arr=13 6 31 14 29 44 3\n"
   ]
  },
  {
   "cell_type": "code",
   "execution_count": 18,
   "metadata": {},
   "outputs": [
    {
     "name": "stdout",
     "output_type": "stream",
     "text": [
      "31\n"
     ]
    }
   ],
   "source": [
    "N=int(input())\n",
    "arr=list(map(int,input().split()))\n",
    "arr.sort()\n",
    "\n",
    "if len(arr) >= 2:\n",
    "    second_largest = arr[-2]\n",
    "    print(second_largest)"
   ]
  },
  {
   "cell_type": "markdown",
   "metadata": {},
   "source": [
    "4.Check Array Rotation"
   ]
  },
  {
   "cell_type": "markdown",
   "metadata": {},
   "source": [
    "t=1\n",
    "N=6\n",
    "arr=5 6 1 2 3 4"
   ]
  },
  {
   "cell_type": "code",
   "execution_count": 20,
   "metadata": {},
   "outputs": [
    {
     "name": "stdout",
     "output_type": "stream",
     "text": [
      "2\n"
     ]
    }
   ],
   "source": [
    "t = int(input())\n",
    "for _ in range(t):\n",
    "    N = int(input())\n",
    "    arr = list(map(int, input().split()))\n",
    "    low, high = 0, N - 1\n",
    "\n",
    "    while low <= high:\n",
    "        mid = (low + high) // 2\n",
    "        if arr[mid] > arr[mid + 1]:\n",
    "            rotation_index = mid + 1\n",
    "            break\n",
    "        if arr[low] <= arr[mid]:\n",
    "            low = mid + 1\n",
    "        else:\n",
    "            high = mid - 1\n",
    "    else:\n",
    "        rotation_index = 0\n",
    "    print(rotation_index)\n"
   ]
  },
  {
   "cell_type": "markdown",
   "metadata": {},
   "source": [
    "5.Sort 0 1 2"
   ]
  },
  {
   "cell_type": "markdown",
   "metadata": {},
   "source": [
    "t=1\n",
    "N=7\n",
    "arr=0 1 2 0 2 0 1"
   ]
  },
  {
   "cell_type": "code",
   "execution_count": 23,
   "metadata": {},
   "outputs": [
    {
     "name": "stdout",
     "output_type": "stream",
     "text": [
      "0 0 0 1 1 2 2\n"
     ]
    }
   ],
   "source": [
    "t=int(input())\n",
    "for _ in range(t):\n",
    "    N=int(input())\n",
    "    arr=list(map(int,input().split()))\n",
    "    arr.sort()\n",
    "    print(*arr)"
   ]
  },
  {
   "cell_type": "code",
   "execution_count": 9,
   "metadata": {},
   "outputs": [
    {
     "name": "stdout",
     "output_type": "stream",
     "text": [
      "sorted array in ascending order\n",
      "[0, 0, 0, 1, 1, 2, 2]\n"
     ]
    }
   ],
   "source": [
    "def bubbleSort(arr):\n",
    "    for i in range(len(arr)):\n",
    "        for j in range(0,len(arr)-i-1):\n",
    "            if (arr[j]>arr[j+1]):\n",
    "                (arr[j],arr[j+1])=(arr[j+1],arr[j])\n",
    "input=[0,1,2,0,2,0,1]\n",
    "bubbleSort(input)\n",
    "print(\"sorted array in ascending order\")\n",
    "print(input)"
   ]
  },
  {
   "cell_type": "markdown",
   "metadata": {},
   "source": [
    "t=2\n",
    "N=5\n",
    "arr=2 2 0 1 1\n",
    "N=7\n",
    "arr=0 1 2 0 1 2 0"
   ]
  },
  {
   "cell_type": "code",
   "execution_count": 24,
   "metadata": {},
   "outputs": [
    {
     "name": "stdout",
     "output_type": "stream",
     "text": [
      "0 1 1 2 2\n",
      "0 0 0 1 1 2 2\n"
     ]
    }
   ],
   "source": [
    "t=int(input())\n",
    "for _ in range(t):\n",
    "    N=int(input())\n",
    "    arr=list(map(int,input().split()))\n",
    "    arr.sort()\n",
    "    print(*arr)"
   ]
  },
  {
   "cell_type": "markdown",
   "metadata": {},
   "source": [
    "6.Sum of Two arrays"
   ]
  },
  {
   "cell_type": "markdown",
   "metadata": {},
   "source": [
    "t=1\n",
    "N=3\n",
    "arr1=6 2 4\n",
    "M=3\n",
    "arr2=7 5 6"
   ]
  },
  {
   "cell_type": "code",
   "execution_count": 29,
   "metadata": {},
   "outputs": [
    {
     "name": "stdout",
     "output_type": "stream",
     "text": [
      "1 3 8 0\n"
     ]
    }
   ],
   "source": [
    "t=int(input())\n",
    "for _ in range(t):\n",
    "    N=int(input())\n",
    "    arr1=list(map(int,input().split()))\n",
    "    M=int(input())\n",
    "    arr2=list(map(int,input().split()))\n",
    "    num1 = int(\"\".join(map(str, arr1)))\n",
    "    num2 = int(\"\".join(map(str, arr2)))\n",
    "    sum = num1 + num2\n",
    "    result_list = [int(digit) for digit in str(sum)]\n",
    "    print(*result_list)"
   ]
  },
  {
   "cell_type": "markdown",
   "metadata": {},
   "source": [
    "t=2\n",
    "N=3\n",
    "arr1=8 5 2\n",
    "M=2\n",
    "arr2=1 3\n",
    "N=4\n",
    "arr1=9 7 6 1\n",
    "M=3\n",
    "arr2=4 5 9"
   ]
  },
  {
   "cell_type": "code",
   "execution_count": 30,
   "metadata": {},
   "outputs": [
    {
     "name": "stdout",
     "output_type": "stream",
     "text": [
      "8 6 5\n",
      "1 0 2 2 0\n"
     ]
    }
   ],
   "source": [
    "t=int(input())\n",
    "for _ in range(t):\n",
    "    N=int(input())\n",
    "    arr1=list(map(int,input().split()))\n",
    "    M=int(input())\n",
    "    arr2=list(map(int,input().split()))\n",
    "    num1 = int(\"\".join(map(str, arr1)))\n",
    "    num2 = int(\"\".join(map(str, arr2)))\n",
    "    sum = num1 + num2\n",
    "    result_list = [int(digit) for digit in str(sum)]\n",
    "    print(*result_list)"
   ]
  },
  {
   "cell_type": "code",
   "execution_count": 2,
   "metadata": {},
   "outputs": [
    {
     "name": "stdout",
     "output_type": "stream",
     "text": [
      "[0, 1, 2, 2, 3, 4, 4, 5, 6, 7]\n"
     ]
    }
   ],
   "source": [
    "def merge_sort(arr):\n",
    "    if len(arr)>1:  \n",
    "    \n",
    "        left_arr=arr[:len(arr)//2]\n",
    "        right_arr=arr[len(arr)//2:]\n",
    "\n",
    "        merge_sort(left_arr)\n",
    "        merge_sort(right_arr)\n",
    "\n",
    "        i=0\n",
    "        j=0\n",
    "        k=0\n",
    "        while i<len(left_arr) and j<len(right_arr):\n",
    "            if left_arr[i]<right_arr[j]:\n",
    "                arr[k]=left_arr[i]\n",
    "                i+=1\n",
    "            else:\n",
    "                arr[k]=right_arr[j]\n",
    "                j+=1\n",
    "            k+=1\n",
    "        while i<len(left_arr):\n",
    "            arr[k]=left_arr[i]\n",
    "            i+=1\n",
    "            k+=1\n",
    "        while j<len(right_arr):\n",
    "            arr[k]=right_arr[j]\n",
    "            j+=1\n",
    "            k+=1\n",
    "arr_test=[2,3,5,1,7,4,4,2,6,0]\n",
    "merge_sort(arr_test)\n",
    "print(arr_test)"
   ]
  },
  {
   "cell_type": "code",
   "execution_count": 16,
   "metadata": {},
   "outputs": [
    {
     "name": "stdout",
     "output_type": "stream",
     "text": [
      "not found\n"
     ]
    }
   ],
   "source": [
    "def linear_search(list,n):\n",
    "    i=0\n",
    "    while i<(len(list)):\n",
    "        if list[i]==n:\n",
    "            return True\n",
    "        i+=1\n",
    "    return False\n",
    "list=[2,5,7,4,3]\n",
    "n=9\n",
    "if linear_search(list,n):\n",
    "    print(\"found\")\n",
    "else:\n",
    "    print(\"not found\")"
   ]
  },
  {
   "cell_type": "code",
   "execution_count": 20,
   "metadata": {},
   "outputs": [
    {
     "name": "stdout",
     "output_type": "stream",
     "text": [
      "found at 2\n"
     ]
    }
   ],
   "source": [
    "pos=-1\n",
    "def binary_search(list,n):\n",
    "    l=0\n",
    "    u=len(list)-1\n",
    "    while l<=u:\n",
    "        mid=(l+u)//2\n",
    "        if list[mid]==n:\n",
    "            globals()['pos']=mid\n",
    "            return True\n",
    "        else:\n",
    "            if list[mid]<n:\n",
    "                l=mid+1\n",
    "            else:\n",
    "                u=mid-1\n",
    "    return False\n",
    "list=[2,5,7,8,9]\n",
    "n=7\n",
    "if binary_search(list,n):\n",
    "    print(\"found at\",pos)\n",
    "else:\n",
    "    print(\"not found\")"
   ]
  }
 ],
 "metadata": {
  "kernelspec": {
   "display_name": "Python 3",
   "language": "python",
   "name": "python3"
  },
  "language_info": {
   "codemirror_mode": {
    "name": "ipython",
    "version": 3
   },
   "file_extension": ".py",
   "mimetype": "text/x-python",
   "name": "python",
   "nbconvert_exporter": "python",
   "pygments_lexer": "ipython3",
   "version": "3.11.4"
  }
 },
 "nbformat": 4,
 "nbformat_minor": 2
}
